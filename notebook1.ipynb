{
 "cells": [
  {
   "cell_type": "code",
   "execution_count": 1,
   "metadata": {},
   "outputs": [
    {
     "name": "stderr",
     "output_type": "stream",
     "text": [
      "2022-07-25 03:13:52.360852: W tensorflow/stream_executor/platform/default/dso_loader.cc:64] Could not load dynamic library 'libcudart.so.11.0'; dlerror: libcudart.so.11.0: cannot open shared object file: No such file or directory\n",
      "2022-07-25 03:13:52.360891: I tensorflow/stream_executor/cuda/cudart_stub.cc:29] Ignore above cudart dlerror if you do not have a GPU set up on your machine.\n"
     ]
    }
   ],
   "source": [
    "\n",
    "import os\n",
    "\n",
    "import numpy as np # linear algebra\n",
    "import pandas as pd # data processing, CSV file I/O (e.g. pd.read_csv)\n",
    "\n",
    "import tensorflow as tf\n",
    "import keras\n",
    "from keras.models import Sequential\n",
    "from keras.layers import Dense, Conv2D , MaxPool2D , Flatten , Dropout \n",
    "from keras.preprocessing.image import ImageDataGenerator\n",
    "from tensorflow.keras.optimizers import Adam\n",
    "\n",
    "from sklearn.metrics import classification_report,confusion_matrix\n",
    "\n",
    "import cv2\n",
    "\n",
    "import matplotlib.pyplot as plt\n",
    "import matplotlib.image as mpimg\n",
    "import seaborn as sns\n",
    "\n",
    "from PIL import Image\n",
    "from IPython.display import Image, display"
   ]
  },
  {
   "cell_type": "code",
   "execution_count": 2,
   "metadata": {},
   "outputs": [],
   "source": [
    "import shutil\n",
    "\n",
    "src_root= '/workspaces/icecream-streamlit-combo/inputimages/'\n",
    "dest_train = '/workspaces/icecream-streamlit-combo/projdata/train'\n",
    "dest_test = '/workspaces/icecream-streamlit-combo/projdata/testss'\n",
    "\n",
    "def copy_images_to_work(brand, cnt):\n",
    "    \n",
    "    files = os.listdir(src_root+'/'+brand +'/images')\n",
    "    i=0\n",
    "    for f in files:\n",
    "        \n",
    "        src = src_root+'/'+brand +'/images/'+f\n",
    "        i = i + 1\n",
    "    \n",
    "        if i <= cnt :\n",
    "            \n",
    "            des = dest_train+'/'+brand+'/'+f\n",
    "     \n",
    "            if os.path.isfile(des) != True:\n",
    "                shutil.copyfile(src, des)\n",
    "                print(des+ '-> copied')\n",
    "            else:\n",
    "                print(des+' -> exists')\n",
    "                \n",
    "        else:\n",
    "            \n",
    "            des = dest_test+'/'+brand+'/'+f\n",
    "     \n",
    "            if os.path.isfile(des) != True:\n",
    "                shutil.copyfile(src, des)  \n",
    "                print(des+ '-> copied')\n",
    "            else:\n",
    "                print(des+' -> exists')"
   ]
  },
  {
   "cell_type": "code",
   "execution_count": 3,
   "metadata": {},
   "outputs": [
    {
     "name": "stdout",
     "output_type": "stream",
     "text": [
      "/workspaces/icecream-streamlit-combo/projdata/train/bj/12_bj.png -> exists\n",
      "/workspaces/icecream-streamlit-combo/projdata/train/bj/47_bj.png -> exists\n",
      "/workspaces/icecream-streamlit-combo/projdata/train/bj/2_bj.png -> exists\n",
      "/workspaces/icecream-streamlit-combo/projdata/train/bj/27_bj.png -> exists\n",
      "/workspaces/icecream-streamlit-combo/projdata/train/bj/36_bj.png -> exists\n",
      "/workspaces/icecream-streamlit-combo/projdata/train/bj/22_bj.png -> exists\n",
      "/workspaces/icecream-streamlit-combo/projdata/train/bj/54_bj.png -> exists\n",
      "/workspaces/icecream-streamlit-combo/projdata/train/bj/44_bj.png -> exists\n",
      "/workspaces/icecream-streamlit-combo/projdata/train/bj/51_bj.png -> exists\n",
      "/workspaces/icecream-streamlit-combo/projdata/train/bj/48_bj.png -> exists\n",
      "/workspaces/icecream-streamlit-combo/projdata/train/bj/26_bj.png -> exists\n",
      "/workspaces/icecream-streamlit-combo/projdata/train/bj/40_bj.png -> exists\n",
      "/workspaces/icecream-streamlit-combo/projdata/train/bj/38_bj.png -> exists\n",
      "/workspaces/icecream-streamlit-combo/projdata/train/bj/30_bj.png -> exists\n",
      "/workspaces/icecream-streamlit-combo/projdata/train/bj/28_bj.png -> exists\n",
      "/workspaces/icecream-streamlit-combo/projdata/train/bj/11_bj.png -> exists\n",
      "/workspaces/icecream-streamlit-combo/projdata/train/bj/29_bj.png -> exists\n",
      "/workspaces/icecream-streamlit-combo/projdata/train/bj/55_bj.png -> exists\n",
      "/workspaces/icecream-streamlit-combo/projdata/train/bj/37_bj.png -> exists\n",
      "/workspaces/icecream-streamlit-combo/projdata/train/bj/17_bj.png -> exists\n",
      "/workspaces/icecream-streamlit-combo/projdata/train/bj/56_bj.png -> exists\n",
      "/workspaces/icecream-streamlit-combo/projdata/train/bj/5_bj.png -> exists\n",
      "/workspaces/icecream-streamlit-combo/projdata/train/bj/0_bj.png -> exists\n",
      "/workspaces/icecream-streamlit-combo/projdata/train/bj/42_bj.png -> exists\n",
      "/workspaces/icecream-streamlit-combo/projdata/train/bj/14_bj.png -> exists\n",
      "/workspaces/icecream-streamlit-combo/projdata/train/bj/13_bj.png -> exists\n",
      "/workspaces/icecream-streamlit-combo/projdata/train/bj/15_bj.png -> exists\n",
      "/workspaces/icecream-streamlit-combo/projdata/train/bj/45_bj.png -> exists\n",
      "/workspaces/icecream-streamlit-combo/projdata/train/bj/25_bj.png -> exists\n",
      "/workspaces/icecream-streamlit-combo/projdata/train/bj/43_bj.png -> exists\n",
      "/workspaces/icecream-streamlit-combo/projdata/train/bj/6_bj.png -> exists\n",
      "/workspaces/icecream-streamlit-combo/projdata/train/bj/23_bj.png -> exists\n",
      "/workspaces/icecream-streamlit-combo/projdata/train/bj/7_bj.png -> exists\n",
      "/workspaces/icecream-streamlit-combo/projdata/train/bj/16_bj.png -> exists\n",
      "/workspaces/icecream-streamlit-combo/projdata/train/bj/50_bj.png -> exists\n",
      "/workspaces/icecream-streamlit-combo/projdata/train/bj/31_bj.png -> exists\n",
      "/workspaces/icecream-streamlit-combo/projdata/train/bj/4_bj.png -> exists\n",
      "/workspaces/icecream-streamlit-combo/projdata/train/bj/33_bj.png -> exists\n",
      "/workspaces/icecream-streamlit-combo/projdata/train/bj/46_bj.png -> exists\n",
      "/workspaces/icecream-streamlit-combo/projdata/train/bj/24_bj.png -> exists\n",
      "/workspaces/icecream-streamlit-combo/projdata/train/bj/3_bj.png -> exists\n",
      "/workspaces/icecream-streamlit-combo/projdata/testss/bj/19_bj.png -> exists\n",
      "/workspaces/icecream-streamlit-combo/projdata/testss/bj/8_bj.png -> exists\n",
      "/workspaces/icecream-streamlit-combo/projdata/testss/bj/52_bj.png -> exists\n",
      "/workspaces/icecream-streamlit-combo/projdata/testss/bj/21_bj.png -> exists\n",
      "/workspaces/icecream-streamlit-combo/projdata/testss/bj/32_bj.png -> exists\n",
      "/workspaces/icecream-streamlit-combo/projdata/testss/bj/39_bj.png -> exists\n",
      "/workspaces/icecream-streamlit-combo/projdata/testss/bj/18_bj.png -> exists\n",
      "/workspaces/icecream-streamlit-combo/projdata/testss/bj/1_bj.png -> exists\n",
      "/workspaces/icecream-streamlit-combo/projdata/testss/bj/53_bj.png -> exists\n",
      "/workspaces/icecream-streamlit-combo/projdata/testss/bj/10_bj.png -> exists\n",
      "/workspaces/icecream-streamlit-combo/projdata/testss/bj/20_bj.png -> exists\n",
      "/workspaces/icecream-streamlit-combo/projdata/testss/bj/41_bj.png -> exists\n",
      "/workspaces/icecream-streamlit-combo/projdata/testss/bj/34_bj.png -> exists\n",
      "/workspaces/icecream-streamlit-combo/projdata/testss/bj/35_bj.png -> exists\n",
      "/workspaces/icecream-streamlit-combo/projdata/train/breyers/65_breyers.png -> exists\n",
      "/workspaces/icecream-streamlit-combo/projdata/train/breyers/7_breyers.png -> exists\n",
      "/workspaces/icecream-streamlit-combo/projdata/train/breyers/40_breyers.png -> exists\n",
      "/workspaces/icecream-streamlit-combo/projdata/train/breyers/1_breyers.png -> exists\n",
      "/workspaces/icecream-streamlit-combo/projdata/train/breyers/0_breyers.png -> exists\n",
      "/workspaces/icecream-streamlit-combo/projdata/train/breyers/13_breyers.png -> exists\n",
      "/workspaces/icecream-streamlit-combo/projdata/train/breyers/22_breyers.png -> exists\n",
      "/workspaces/icecream-streamlit-combo/projdata/train/breyers/54_breyers.png -> exists\n",
      "/workspaces/icecream-streamlit-combo/projdata/train/breyers/57_breyers.png -> exists\n",
      "/workspaces/icecream-streamlit-combo/projdata/train/breyers/44_breyers.png -> exists\n",
      "/workspaces/icecream-streamlit-combo/projdata/train/breyers/52_breyers.png -> exists\n",
      "/workspaces/icecream-streamlit-combo/projdata/train/breyers/48_breyers.png -> exists\n",
      "/workspaces/icecream-streamlit-combo/projdata/train/breyers/60_breyers.png -> exists\n",
      "/workspaces/icecream-streamlit-combo/projdata/train/breyers/30_breyers.png -> exists\n",
      "/workspaces/icecream-streamlit-combo/projdata/train/breyers/23_breyers.png -> exists\n",
      "/workspaces/icecream-streamlit-combo/projdata/train/breyers/64_breyers.png -> exists\n",
      "/workspaces/icecream-streamlit-combo/projdata/train/breyers/67_breyers.png -> exists\n",
      "/workspaces/icecream-streamlit-combo/projdata/train/breyers/31_breyers.png -> exists\n",
      "/workspaces/icecream-streamlit-combo/projdata/train/breyers/36_breyers.png -> exists\n",
      "/workspaces/icecream-streamlit-combo/projdata/train/breyers/8_breyers.png -> exists\n",
      "/workspaces/icecream-streamlit-combo/projdata/train/breyers/45_breyers.png -> exists\n",
      "/workspaces/icecream-streamlit-combo/projdata/train/breyers/61_breyers.png -> exists\n",
      "/workspaces/icecream-streamlit-combo/projdata/train/breyers/62_breyers.png -> exists\n",
      "/workspaces/icecream-streamlit-combo/projdata/train/breyers/11_breyers.png -> exists\n",
      "/workspaces/icecream-streamlit-combo/projdata/train/breyers/26_breyers.png -> exists\n",
      "/workspaces/icecream-streamlit-combo/projdata/train/breyers/35_breyers.png -> exists\n",
      "/workspaces/icecream-streamlit-combo/projdata/train/breyers/6_breyers.png -> exists\n",
      "/workspaces/icecream-streamlit-combo/projdata/train/breyers/55_breyers.png -> exists\n",
      "/workspaces/icecream-streamlit-combo/projdata/train/breyers/37_breyers.png -> exists\n",
      "/workspaces/icecream-streamlit-combo/projdata/train/breyers/2_breyers.png -> exists\n",
      "/workspaces/icecream-streamlit-combo/projdata/train/breyers/49_breyers.png -> exists\n",
      "/workspaces/icecream-streamlit-combo/projdata/train/breyers/16_breyers.png -> exists\n",
      "/workspaces/icecream-streamlit-combo/projdata/train/breyers/20_breyers.png -> exists\n",
      "/workspaces/icecream-streamlit-combo/projdata/train/breyers/46_breyers.png -> exists\n",
      "/workspaces/icecream-streamlit-combo/projdata/train/breyers/24_breyers.png -> exists\n",
      "/workspaces/icecream-streamlit-combo/projdata/train/breyers/17_breyers.png -> exists\n",
      "/workspaces/icecream-streamlit-combo/projdata/train/breyers/25_breyers.png -> exists\n",
      "/workspaces/icecream-streamlit-combo/projdata/train/breyers/19_breyers.png -> exists\n",
      "/workspaces/icecream-streamlit-combo/projdata/train/breyers/21_breyers.png -> exists\n",
      "/workspaces/icecream-streamlit-combo/projdata/train/breyers/5_breyers.png -> exists\n",
      "/workspaces/icecream-streamlit-combo/projdata/train/breyers/42_breyers.png -> exists\n",
      "/workspaces/icecream-streamlit-combo/projdata/train/breyers/59_breyers.png -> exists\n",
      "/workspaces/icecream-streamlit-combo/projdata/train/breyers/29_breyers.png -> exists\n",
      "/workspaces/icecream-streamlit-combo/projdata/train/breyers/41_breyers.png -> exists\n",
      "/workspaces/icecream-streamlit-combo/projdata/train/breyers/4_breyers.png -> exists\n",
      "/workspaces/icecream-streamlit-combo/projdata/train/breyers/15_breyers.png -> exists\n",
      "/workspaces/icecream-streamlit-combo/projdata/train/breyers/47_breyers.png -> exists\n",
      "/workspaces/icecream-streamlit-combo/projdata/train/breyers/9_breyers.png -> exists\n",
      "/workspaces/icecream-streamlit-combo/projdata/train/breyers/68_breyers.png -> exists\n",
      "/workspaces/icecream-streamlit-combo/projdata/train/breyers/39_breyers.png -> exists\n",
      "/workspaces/icecream-streamlit-combo/projdata/train/breyers/14_breyers.png -> exists\n",
      "/workspaces/icecream-streamlit-combo/projdata/testss/breyers/50_breyers.png -> exists\n",
      "/workspaces/icecream-streamlit-combo/projdata/testss/breyers/66_breyers.png -> exists\n",
      "/workspaces/icecream-streamlit-combo/projdata/testss/breyers/10_breyers.png -> exists\n",
      "/workspaces/icecream-streamlit-combo/projdata/testss/breyers/32_breyers.png -> exists\n",
      "/workspaces/icecream-streamlit-combo/projdata/testss/breyers/51_breyers.png -> exists\n",
      "/workspaces/icecream-streamlit-combo/projdata/testss/breyers/34_breyers.png -> exists\n",
      "/workspaces/icecream-streamlit-combo/projdata/testss/breyers/28_breyers.png -> exists\n",
      "/workspaces/icecream-streamlit-combo/projdata/testss/breyers/63_breyers.png -> exists\n",
      "/workspaces/icecream-streamlit-combo/projdata/testss/breyers/27_breyers.png -> exists\n",
      "/workspaces/icecream-streamlit-combo/projdata/testss/breyers/58_breyers.png -> exists\n",
      "/workspaces/icecream-streamlit-combo/projdata/testss/breyers/43_breyers.png -> exists\n",
      "/workspaces/icecream-streamlit-combo/projdata/testss/breyers/33_breyers.png -> exists\n",
      "/workspaces/icecream-streamlit-combo/projdata/testss/breyers/12_breyers.png -> exists\n",
      "/workspaces/icecream-streamlit-combo/projdata/testss/breyers/38_breyers.png -> exists\n",
      "/workspaces/icecream-streamlit-combo/projdata/testss/breyers/18_breyers.png -> exists\n",
      "/workspaces/icecream-streamlit-combo/projdata/testss/breyers/53_breyers.png -> exists\n",
      "/workspaces/icecream-streamlit-combo/projdata/testss/breyers/56_breyers.png -> exists\n",
      "/workspaces/icecream-streamlit-combo/projdata/testss/breyers/3_breyers.png -> exists\n",
      "/workspaces/icecream-streamlit-combo/projdata/train/hd/7_hd.png -> exists\n",
      "/workspaces/icecream-streamlit-combo/projdata/train/hd/9_hd.png -> exists\n",
      "/workspaces/icecream-streamlit-combo/projdata/train/hd/39_hd.png -> exists\n",
      "/workspaces/icecream-streamlit-combo/projdata/train/hd/1_hd.png -> exists\n",
      "/workspaces/icecream-streamlit-combo/projdata/train/hd/14_hd.png -> exists\n",
      "/workspaces/icecream-streamlit-combo/projdata/train/hd/34_hd.png -> exists\n",
      "/workspaces/icecream-streamlit-combo/projdata/train/hd/5_hd.png -> exists\n",
      "/workspaces/icecream-streamlit-combo/projdata/train/hd/2_hd.png -> exists\n",
      "/workspaces/icecream-streamlit-combo/projdata/train/hd/50_hd.png -> exists\n",
      "/workspaces/icecream-streamlit-combo/projdata/train/hd/59_hd.png -> exists\n",
      "/workspaces/icecream-streamlit-combo/projdata/train/hd/18_hd.png -> exists\n",
      "/workspaces/icecream-streamlit-combo/projdata/train/hd/38_hd.png -> exists\n",
      "/workspaces/icecream-streamlit-combo/projdata/train/hd/58_hd.png -> exists\n",
      "/workspaces/icecream-streamlit-combo/projdata/train/hd/8_hd.png -> exists\n",
      "/workspaces/icecream-streamlit-combo/projdata/train/hd/49_hd.png -> exists\n",
      "/workspaces/icecream-streamlit-combo/projdata/train/hd/56_hd.png -> exists\n",
      "/workspaces/icecream-streamlit-combo/projdata/train/hd/10_hd.png -> exists\n",
      "/workspaces/icecream-streamlit-combo/projdata/train/hd/3_hd.png -> exists\n",
      "/workspaces/icecream-streamlit-combo/projdata/train/hd/64_hd.png -> exists\n",
      "/workspaces/icecream-streamlit-combo/projdata/train/hd/66_hd.png -> exists\n",
      "/workspaces/icecream-streamlit-combo/projdata/train/hd/21_hd.png -> exists\n",
      "/workspaces/icecream-streamlit-combo/projdata/train/hd/36_hd.png -> exists\n",
      "/workspaces/icecream-streamlit-combo/projdata/train/hd/28_hd.png -> exists\n",
      "/workspaces/icecream-streamlit-combo/projdata/train/hd/47_hd.png -> exists\n",
      "/workspaces/icecream-streamlit-combo/projdata/train/hd/31_hd.png -> exists\n",
      "/workspaces/icecream-streamlit-combo/projdata/train/hd/25_hd.png -> exists\n",
      "/workspaces/icecream-streamlit-combo/projdata/train/hd/35_hd.png -> exists\n",
      "/workspaces/icecream-streamlit-combo/projdata/train/hd/63_hd.png -> exists\n",
      "/workspaces/icecream-streamlit-combo/projdata/train/hd/40_hd.png -> exists\n",
      "/workspaces/icecream-streamlit-combo/projdata/train/hd/69_hd.png -> exists\n",
      "/workspaces/icecream-streamlit-combo/projdata/train/hd/52_hd.png -> exists\n",
      "/workspaces/icecream-streamlit-combo/projdata/train/hd/11_hd.png -> exists\n",
      "/workspaces/icecream-streamlit-combo/projdata/train/hd/41_hd.png -> exists\n",
      "/workspaces/icecream-streamlit-combo/projdata/train/hd/15_hd.png -> exists\n",
      "/workspaces/icecream-streamlit-combo/projdata/train/hd/13_hd.png -> exists\n",
      "/workspaces/icecream-streamlit-combo/projdata/train/hd/60_hd.png -> exists\n",
      "/workspaces/icecream-streamlit-combo/projdata/train/hd/6_hd.png -> exists\n",
      "/workspaces/icecream-streamlit-combo/projdata/train/hd/29_hd.png -> exists\n",
      "/workspaces/icecream-streamlit-combo/projdata/train/hd/65_hd.png -> exists\n",
      "/workspaces/icecream-streamlit-combo/projdata/train/hd/68_hd.png -> exists\n",
      "/workspaces/icecream-streamlit-combo/projdata/train/hd/67_hd.png -> exists\n",
      "/workspaces/icecream-streamlit-combo/projdata/train/hd/54_hd.png -> exists\n",
      "/workspaces/icecream-streamlit-combo/projdata/train/hd/32_hd.png -> exists\n",
      "/workspaces/icecream-streamlit-combo/projdata/train/hd/16_hd.png -> exists\n",
      "/workspaces/icecream-streamlit-combo/projdata/train/hd/24_hd.png -> exists\n",
      "/workspaces/icecream-streamlit-combo/projdata/train/hd/46_hd.png -> exists\n",
      "/workspaces/icecream-streamlit-combo/projdata/train/hd/62_hd.png -> exists\n",
      "/workspaces/icecream-streamlit-combo/projdata/train/hd/51_hd.png -> exists\n",
      "/workspaces/icecream-streamlit-combo/projdata/train/hd/45_hd.png -> exists\n",
      "/workspaces/icecream-streamlit-combo/projdata/train/hd/42_hd.png -> exists\n",
      "/workspaces/icecream-streamlit-combo/projdata/train/hd/17_hd.png -> exists\n",
      "/workspaces/icecream-streamlit-combo/projdata/testss/hd/4_hd.png -> exists\n",
      "/workspaces/icecream-streamlit-combo/projdata/testss/hd/20_hd.png -> exists\n",
      "/workspaces/icecream-streamlit-combo/projdata/testss/hd/33_hd.png -> exists\n",
      "/workspaces/icecream-streamlit-combo/projdata/testss/hd/44_hd.png -> exists\n",
      "/workspaces/icecream-streamlit-combo/projdata/testss/hd/37_hd.png -> exists\n",
      "/workspaces/icecream-streamlit-combo/projdata/testss/hd/48_hd.png -> exists\n",
      "/workspaces/icecream-streamlit-combo/projdata/testss/hd/30_hd.png -> exists\n",
      "/workspaces/icecream-streamlit-combo/projdata/testss/hd/26_hd.png -> exists\n",
      "/workspaces/icecream-streamlit-combo/projdata/testss/hd/0_hd.png -> exists\n",
      "/workspaces/icecream-streamlit-combo/projdata/testss/hd/43_hd.png -> exists\n",
      "/workspaces/icecream-streamlit-combo/projdata/testss/hd/61_hd.png -> exists\n",
      "/workspaces/icecream-streamlit-combo/projdata/testss/hd/12_hd.png -> exists\n",
      "/workspaces/icecream-streamlit-combo/projdata/testss/hd/23_hd.png -> exists\n",
      "/workspaces/icecream-streamlit-combo/projdata/testss/hd/53_hd.png -> exists\n",
      "/workspaces/icecream-streamlit-combo/projdata/testss/hd/19_hd.png -> exists\n",
      "/workspaces/icecream-streamlit-combo/projdata/testss/hd/55_hd.png -> exists\n",
      "/workspaces/icecream-streamlit-combo/projdata/testss/hd/22_hd.png -> exists\n",
      "/workspaces/icecream-streamlit-combo/projdata/testss/hd/57_hd.png -> exists\n",
      "/workspaces/icecream-streamlit-combo/projdata/testss/hd/27_hd.png -> exists\n",
      "/workspaces/icecream-streamlit-combo/projdata/train/talenti/29_talenti.png -> exists\n",
      "/workspaces/icecream-streamlit-combo/projdata/train/talenti/20_talenti.png -> exists\n",
      "/workspaces/icecream-streamlit-combo/projdata/train/talenti/19_talenti.png -> exists\n",
      "/workspaces/icecream-streamlit-combo/projdata/train/talenti/1_talenti.png -> exists\n",
      "/workspaces/icecream-streamlit-combo/projdata/train/talenti/39_talenti.png -> exists\n",
      "/workspaces/icecream-streamlit-combo/projdata/train/talenti/36_talenti.png -> exists\n",
      "/workspaces/icecream-streamlit-combo/projdata/train/talenti/9_talenti.png -> exists\n",
      "/workspaces/icecream-streamlit-combo/projdata/train/talenti/6_talenti.png -> exists\n",
      "/workspaces/icecream-streamlit-combo/projdata/train/talenti/12_talenti.png -> exists\n",
      "/workspaces/icecream-streamlit-combo/projdata/train/talenti/37_talenti.png -> exists\n",
      "/workspaces/icecream-streamlit-combo/projdata/train/talenti/4_talenti.png -> exists\n",
      "/workspaces/icecream-streamlit-combo/projdata/train/talenti/27_talenti.png -> exists\n",
      "/workspaces/icecream-streamlit-combo/projdata/train/talenti/40_talenti.png -> exists\n",
      "/workspaces/icecream-streamlit-combo/projdata/train/talenti/22_talenti.png -> exists\n",
      "/workspaces/icecream-streamlit-combo/projdata/train/talenti/26_talenti.png -> exists\n",
      "/workspaces/icecream-streamlit-combo/projdata/train/talenti/3_talenti.png -> exists\n",
      "/workspaces/icecream-streamlit-combo/projdata/train/talenti/16_talenti.png -> exists\n",
      "/workspaces/icecream-streamlit-combo/projdata/train/talenti/25_talenti.png -> exists\n",
      "/workspaces/icecream-streamlit-combo/projdata/train/talenti/44_talenti.png -> exists\n",
      "/workspaces/icecream-streamlit-combo/projdata/train/talenti/17_talenti.png -> exists\n",
      "/workspaces/icecream-streamlit-combo/projdata/train/talenti/15_talenti.png -> exists\n",
      "/workspaces/icecream-streamlit-combo/projdata/train/talenti/8_talenti.png -> exists\n",
      "/workspaces/icecream-streamlit-combo/projdata/train/talenti/30_talenti.png -> exists\n",
      "/workspaces/icecream-streamlit-combo/projdata/train/talenti/2_talenti.png -> exists\n",
      "/workspaces/icecream-streamlit-combo/projdata/train/talenti/35_talenti.png -> exists\n",
      "/workspaces/icecream-streamlit-combo/projdata/train/talenti/11_talenti.png -> exists\n",
      "/workspaces/icecream-streamlit-combo/projdata/train/talenti/21_talenti.png -> exists\n",
      "/workspaces/icecream-streamlit-combo/projdata/train/talenti/31_talenti.png -> exists\n",
      "/workspaces/icecream-streamlit-combo/projdata/train/talenti/0_talenti.png -> exists\n",
      "/workspaces/icecream-streamlit-combo/projdata/train/talenti/5_talenti.png -> exists\n",
      "/workspaces/icecream-streamlit-combo/projdata/train/talenti/34_talenti.png -> exists\n",
      "/workspaces/icecream-streamlit-combo/projdata/testss/talenti/23_talenti.png -> exists\n",
      "/workspaces/icecream-streamlit-combo/projdata/testss/talenti/38_talenti.png -> exists\n",
      "/workspaces/icecream-streamlit-combo/projdata/testss/talenti/42_talenti.png -> exists\n",
      "/workspaces/icecream-streamlit-combo/projdata/testss/talenti/41_talenti.png -> exists\n",
      "/workspaces/icecream-streamlit-combo/projdata/testss/talenti/28_talenti.png -> exists\n",
      "/workspaces/icecream-streamlit-combo/projdata/testss/talenti/14_talenti.png -> exists\n",
      "/workspaces/icecream-streamlit-combo/projdata/testss/talenti/32_talenti.png -> exists\n",
      "/workspaces/icecream-streamlit-combo/projdata/testss/talenti/13_talenti.png -> exists\n",
      "/workspaces/icecream-streamlit-combo/projdata/testss/talenti/33_talenti.png -> exists\n",
      "/workspaces/icecream-streamlit-combo/projdata/testss/talenti/10_talenti.png -> exists\n",
      "/workspaces/icecream-streamlit-combo/projdata/testss/talenti/7_talenti.png -> exists\n",
      "/workspaces/icecream-streamlit-combo/projdata/testss/talenti/43_talenti.png -> exists\n",
      "/workspaces/icecream-streamlit-combo/projdata/testss/talenti/18_talenti.png -> exists\n",
      "/workspaces/icecream-streamlit-combo/projdata/testss/talenti/24_talenti.png -> exists\n"
     ]
    }
   ],
   "source": [
    "copy_images_to_work('bj',41)\n",
    "copy_images_to_work('breyers',51)\n",
    "copy_images_to_work('hd',51)\n",
    "copy_images_to_work('talenti',31)"
   ]
  },
  {
   "cell_type": "code",
   "execution_count": 4,
   "metadata": {},
   "outputs": [],
   "source": [
    "LABELS = ['bj','breyers','hd','talenti']\n",
    "IMG_SIZE = 32\n",
    "\n",
    "IMG_HEIGHT = IMG_SIZE\n",
    "IMG_WIDTH  = IMG_SIZE\n",
    "\n",
    "import cv2\n",
    "\n",
    "import cv2\n",
    "def get_data(data_dir):\n",
    "    data = []\n",
    "    clas = []\n",
    "    for label in LABELS: \n",
    "        path = os.path.join(data_dir, label)\n",
    "      \n",
    "        class_num = LABELS.index(label)\n",
    "        for img in os.listdir(path):\n",
    "            try:\n",
    "                img_arr = cv2.imread(os.path.join(path, img))[...,::-1] #convert BGR to RGB format\n",
    "                resized_arr = cv2.resize(img_arr, (IMG_HEIGHT, IMG_WIDTH)) # Reshaping images to preferred size\n",
    "                data.append(resized_arr)\n",
    "                clas.append(class_num)\n",
    "            except Exception as e:\n",
    "                print(e)\n",
    "    #return np.array(data,dtype = \"object\")\n",
    "    return data,clas"
   ]
  },
  {
   "cell_type": "code",
   "execution_count": 5,
   "metadata": {},
   "outputs": [
    {
     "name": "stderr",
     "output_type": "stream",
     "text": [
      "libpng warning: iCCP: known incorrect sRGB profile\n"
     ]
    }
   ],
   "source": [
    "img_train,clas_train = get_data('/workspaces/icecream-streamlit-combo/projdata/train')"
   ]
  },
  {
   "cell_type": "code",
   "execution_count": 6,
   "metadata": {},
   "outputs": [],
   "source": [
    "img_test,clas_test = get_data('/workspaces/icecream-streamlit-combo/projdata/testss')"
   ]
  },
  {
   "cell_type": "code",
   "execution_count": 7,
   "metadata": {},
   "outputs": [
    {
     "name": "stdout",
     "output_type": "stream",
     "text": [
      "(32, 32, 3)\n"
     ]
    },
    {
     "data": {
      "image/png": "[encoded data removed]",
      "text/plain": [
       "<Figure size 432x288 with 1 Axes>"
      ]
     },
     "metadata": {
      "needs_background": "light"
     },
     "output_type": "display_data"
    }
   ],
   "source": [
    "import numpy as np\n",
    "import matplotlib.pyplot as plt\n",
    "data = np.asarray(img_train[10])\n",
    "print(data.shape)\n",
    "imgplot = plt.imshow(data)\n",
    "plt.show()"
   ]
  },
  {
   "cell_type": "code",
   "execution_count": 8,
   "metadata": {},
   "outputs": [],
   "source": [
    "img_train  = np.asarray(img_train)\n",
    "clas_train = np.asarray(clas_train)\n",
    "img_test   = np.asarray(img_test)\n",
    "clas_test  = np.asarray(clas_test)"
   ]
  },
  {
   "cell_type": "code",
   "execution_count": 9,
   "metadata": {},
   "outputs": [],
   "source": [
    "img_train = img_train / 255.0\n",
    "img_test = img_test / 255.0"
   ]
  },
  {
   "cell_type": "code",
   "execution_count": 10,
   "metadata": {},
   "outputs": [
    {
     "name": "stdout",
     "output_type": "stream",
     "text": [
      "float64\n",
      "float64\n"
     ]
    }
   ],
   "source": [
    "print(img_train.dtype)\n",
    "print(img_test.dtype)"
   ]
  },
  {
   "cell_type": "code",
   "execution_count": 11,
   "metadata": {},
   "outputs": [
    {
     "name": "stdout",
     "output_type": "stream",
     "text": [
      "Epoch 1/10\n"
     ]
    },
    {
     "name": "stderr",
     "output_type": "stream",
     "text": [
      "2022-07-25 03:14:06.863263: W tensorflow/stream_executor/platform/default/dso_loader.cc:64] Could not load dynamic library 'libcuda.so.1'; dlerror: libcuda.so.1: cannot open shared object file: No such file or directory; LD_LIBRARY_PATH: /opt/python/3.10.4/lib/python3.10/site-packages/cv2/../../lib64:\n",
      "2022-07-25 03:14:06.863308: W tensorflow/stream_executor/cuda/cuda_driver.cc:269] failed call to cuInit: UNKNOWN ERROR (303)\n",
      "2022-07-25 03:14:06.863338: I tensorflow/stream_executor/cuda/cuda_diagnostics.cc:156] kernel driver does not appear to be running on this host (codespaces-3b58c1): /proc/driver/nvidia/version does not exist\n",
      "2022-07-25 03:14:06.863885: I tensorflow/core/platform/cpu_feature_guard.cc:193] This TensorFlow binary is optimized with oneAPI Deep Neural Network Library (oneDNN) to use the following CPU instructions in performance-critical operations:  AVX2 AVX512F FMA\n",
      "To enable them in other operations, rebuild TensorFlow with the appropriate compiler flags.\n"
     ]
    },
    {
     "name": "stdout",
     "output_type": "stream",
     "text": [
      "6/6 [==============================] - 2s 39ms/step - loss: 3.2477 - accuracy: 0.5172 - val_loss: 2.3761 - val_accuracy: 0.6154\n",
      "Epoch 2/10\n",
      "6/6 [==============================] - 0s 11ms/step - loss: 1.3492 - accuracy: 0.7356 - val_loss: 1.0552 - val_accuracy: 0.5538\n",
      "Epoch 3/10\n",
      "6/6 [==============================] - 0s 10ms/step - loss: 0.5751 - accuracy: 0.8103 - val_loss: 0.8002 - val_accuracy: 0.7538\n",
      "Epoch 4/10\n",
      "6/6 [==============================] - 0s 10ms/step - loss: 0.3169 - accuracy: 0.8908 - val_loss: 0.2316 - val_accuracy: 0.9538\n",
      "Epoch 5/10\n",
      "6/6 [==============================] - 0s 10ms/step - loss: 0.0576 - accuracy: 0.9770 - val_loss: 0.1441 - val_accuracy: 0.9538\n",
      "Epoch 6/10\n",
      "6/6 [==============================] - 0s 10ms/step - loss: 0.0271 - accuracy: 1.0000 - val_loss: 0.1408 - val_accuracy: 0.9692\n",
      "Epoch 7/10\n",
      "6/6 [==============================] - 0s 11ms/step - loss: 0.0184 - accuracy: 0.9943 - val_loss: 0.1173 - val_accuracy: 0.9692\n",
      "Epoch 8/10\n",
      "6/6 [==============================] - 0s 11ms/step - loss: 0.0041 - accuracy: 1.0000 - val_loss: 0.1283 - val_accuracy: 0.9692\n",
      "Epoch 9/10\n",
      "6/6 [==============================] - 0s 11ms/step - loss: 0.0028 - accuracy: 1.0000 - val_loss: 0.1577 - val_accuracy: 0.9538\n",
      "Epoch 10/10\n",
      "6/6 [==============================] - 0s 10ms/step - loss: 0.0032 - accuracy: 1.0000 - val_loss: 0.1693 - val_accuracy: 0.9538\n"
     ]
    }
   ],
   "source": [
    "\n",
    "def make_model():\n",
    "      model = keras.Sequential([\n",
    "         keras.layers.Flatten(input_shape=(IMG_HEIGHT, IMG_WIDTH, 3)),\n",
    "         keras.layers.Dense(512, activation='relu'),\n",
    "         keras.layers.Dense(4)\n",
    "      ])\n",
    "      model.compile(optimizer='adam',\n",
    "                   loss=tf.keras.losses.SparseCategoricalCrossentropy(from_logits=True),\n",
    "                   metrics=['accuracy'])\n",
    "      return model\n",
    "\n",
    "model=make_model()\n",
    "#history = model.fit(istrain, isclas, epochs=10)\n",
    "history = model.fit(img_train,clas_train,epochs = 10 , validation_data = (img_test, clas_test))"
   ]
  },
  {
   "cell_type": "code",
   "execution_count": 12,
   "metadata": {},
   "outputs": [
    {
     "data": {
      "image/png": "[encoded data removed]",
      "text/plain": [
       "<Figure size 1080x1080 with 2 Axes>"
      ]
     },
     "metadata": {
      "needs_background": "light"
     },
     "output_type": "display_data"
    }
   ],
   "source": [
    "acc = history.history['accuracy']\n",
    "val_acc = history.history['val_accuracy']\n",
    "loss = history.history['loss']\n",
    "val_loss = history.history['val_loss']\n",
    "\n",
    "epochs_range = range(10)\n",
    "\n",
    "plt.figure(figsize=(15, 15))\n",
    "plt.subplot(2, 2, 1)\n",
    "plt.plot(epochs_range, acc, label='Training Accuracy')\n",
    "plt.plot(epochs_range, val_acc, label='Validation Accuracy')\n",
    "plt.legend(loc='lower right')\n",
    "plt.title('Training and Validation Accuracy')\n",
    "\n",
    "plt.subplot(2, 2, 2)\n",
    "plt.plot(epochs_range, loss, label='Training Loss')\n",
    "plt.plot(epochs_range, val_loss, label='Validation Loss')\n",
    "plt.legend(loc='upper right')\n",
    "plt.title('Training and Validation Loss')\n",
    "\n",
    "plt.show()\n"
   ]
  },
  {
   "cell_type": "code",
   "execution_count": 13,
   "metadata": {},
   "outputs": [
    {
     "name": "stdout",
     "output_type": "stream",
     "text": [
      "INFO:tensorflow:Assets written to: /workspaces/icecream-streamlit-combo/modelz/icecream/assets\n",
      "done\n"
     ]
    }
   ],
   "source": [
    "modelname = '/workspaces/icecream-streamlit-combo/modelz/icecream'\n",
    "#model.save(modelname,save_format='h5')\n",
    "model.save(modelname)\n",
    "print('done')"
   ]
  }
 ],
 "metadata": {
  "kernelspec": {
   "display_name": "Python 3.10.4 64-bit",
   "language": "python",
   "name": "python3"
  },
  "language_info": {
   "codemirror_mode": {
    "name": "ipython",
    "version": 3
   },
   "file_extension": ".py",
   "mimetype": "text/x-python",
   "name": "python",
   "nbconvert_exporter": "python",
   "pygments_lexer": "ipython3",
   "version": "3.10.4"
  },
  "orig_nbformat": 4,
  "vscode": {
   "interpreter": {
    "hash": "4f946df053fbf2b937619d3c5458e7af74262f9a954d8797ba0b27400bcafe06"
   }
  }
 },
 "nbformat": 4,
 "nbformat_minor": 2
}
